{
 "cells": [
  {
   "cell_type": "code",
   "execution_count": null,
   "id": "92cde2b5-7096-46be-bda4-ff31ccaa370a",
   "metadata": {},
   "outputs": [],
   "source": [
    "# import libraries\n",
    "import netCDF4 as nc\n",
    "import numpy as np\n",
    "import glob as glob\n",
    "import xarray as xr\n",
    "import numpy.ma as ma\n",
    "import xgcm\n",
    "from scipy.interpolate import griddata\n",
    "# read the nc files\n",
    "f1obs = sorted(glob.glob(r'tmax.198*.nc'))\n",
    "print(f1obs)\n",
    "f2regrid=sorted(glob.glob(r'*Earth3*.nc'))\n",
    "print(f2regrid)\n",
    "f2regrid1=sorted(glob.glob(r'era5*monthly.nc'))\n",
    "print(f2regrid1)\n",
    "# read the variables\n",
    "g1 = nc.Dataset(f1obs[0])\n",
    "nwlon=g1.variables['lon']\n",
    "print(nwlon)\n",
    "nwlat=g1.variables['lat']\n",
    "print(nwlat)\n",
    "g2 = nc.Dataset(f2regrid[0])\n",
    "ollon=g2.variables['lon']\n",
    "print(ollon)\n",
    "ollat=g2.variables['lat']\n",
    "print(ollat)\n",
    "# define the new grid size\n",
    "new_grid = xr.Dataset({'lat': (['lat'], nwlat), 'lon': (['lon'], nwlon)})\n",
    "source_dataset = xr.open_dataset(f2regrid1[0])\n",
    "target_lat=nwlat\n",
    "target_lon=nwlon\n",
    "# define the regridding methodology\n",
    "regridded_data = source_dataset.interp(lat=target_lat, lon=target_lon, method='linear')\n",
    "# run the loop for all files\n",
    "for i in range(0,1):\n",
    "    source_dataset = xr.open_dataset(f2regrid1[i])\n",
    "    regridded_data = source_dataset.interp(latitude=target_lat, longitude=target_lon, method='linear')\n",
    "    output_file = f2regrid1[i].replace('era5', 'era5regrid')  # Example: Replace 'source' with 'target' in the file name\n",
    "    # Save regridded data to a new NetCDF file\n",
    "    regridded_data.to_netcdf(output_file)\n",
    "    # Close the datasets\n",
    "    source_dataset.close()\n",
    "    regridded_data.close()\n",
    "print('done')"
   ]
  }
 ],
 "metadata": {
  "kernelspec": {
   "display_name": "Python 3 (ipykernel)",
   "language": "python",
   "name": "python3"
  },
  "language_info": {
   "codemirror_mode": {
    "name": "ipython",
    "version": 3
   },
   "file_extension": ".py",
   "mimetype": "text/x-python",
   "name": "python",
   "nbconvert_exporter": "python",
   "pygments_lexer": "ipython3",
   "version": "3.12.0"
  }
 },
 "nbformat": 4,
 "nbformat_minor": 5
}
